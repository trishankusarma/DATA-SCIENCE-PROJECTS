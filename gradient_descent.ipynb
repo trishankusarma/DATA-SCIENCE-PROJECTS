{
 "cells": [
  {
   "cell_type": "code",
   "execution_count": 1,
   "metadata": {},
   "outputs": [
    {
     "name": "stdout",
     "output_type": "stream",
     "text": [
      "Overview about Batch Gradient Descent , Stochastic Gradient Descent ( SGD ) , Mini Batch Gradient Descent \n",
      "\n",
      "In Batch Gradient Descent, we use all the training samples for one forward pass and then adjust weights\n",
      "\n",
      "In Stochastic Gradient Descent, we use one randamly picked sample for a forward pass and then adjust weights\n",
      "\n",
      "In mini batch gradient Descent, we use a batch of randomly picked samples for a forward pass and then adjust weights\n",
      "\n"
     ]
    },
    {
     "data": {
      "text/html": [
       "<div>\n",
       "<style scoped>\n",
       "    .dataframe tbody tr th:only-of-type {\n",
       "        vertical-align: middle;\n",
       "    }\n",
       "\n",
       "    .dataframe tbody tr th {\n",
       "        vertical-align: top;\n",
       "    }\n",
       "\n",
       "    .dataframe thead th {\n",
       "        text-align: right;\n",
       "    }\n",
       "</style>\n",
       "<table border=\"1\" class=\"dataframe\">\n",
       "  <thead>\n",
       "    <tr style=\"text-align: right;\">\n",
       "      <th></th>\n",
       "      <th>area</th>\n",
       "      <th>bedrooms</th>\n",
       "      <th>price</th>\n",
       "    </tr>\n",
       "  </thead>\n",
       "  <tbody>\n",
       "    <tr>\n",
       "      <th>11</th>\n",
       "      <td>2785</td>\n",
       "      <td>4</td>\n",
       "      <td>140.0</td>\n",
       "    </tr>\n",
       "    <tr>\n",
       "      <th>14</th>\n",
       "      <td>2250</td>\n",
       "      <td>3</td>\n",
       "      <td>101.0</td>\n",
       "    </tr>\n",
       "    <tr>\n",
       "      <th>13</th>\n",
       "      <td>1100</td>\n",
       "      <td>2</td>\n",
       "      <td>40.0</td>\n",
       "    </tr>\n",
       "    <tr>\n",
       "      <th>7</th>\n",
       "      <td>3300</td>\n",
       "      <td>4</td>\n",
       "      <td>155.0</td>\n",
       "    </tr>\n",
       "    <tr>\n",
       "      <th>3</th>\n",
       "      <td>1521</td>\n",
       "      <td>3</td>\n",
       "      <td>75.0</td>\n",
       "    </tr>\n",
       "  </tbody>\n",
       "</table>\n",
       "</div>"
      ],
      "text/plain": [
       "    area  bedrooms  price\n",
       "11  2785         4  140.0\n",
       "14  2250         3  101.0\n",
       "13  1100         2   40.0\n",
       "7   3300         4  155.0\n",
       "3   1521         3   75.0"
      ]
     },
     "execution_count": 1,
     "metadata": {},
     "output_type": "execute_result"
    }
   ],
   "source": [
    "import pandas as pd;\n",
    "import numpy as np;\n",
    "from matplotlib import pyplot as plt;\n",
    "\n",
    "print(\"Overview about Batch Gradient Descent , Stochastic Gradient Descent ( SGD ) , Mini Batch Gradient Descent \\n\");\n",
    "\n",
    "print(\"In Batch Gradient Descent, we use all the training samples for one forward pass and then adjust weights\\n\");\n",
    "\n",
    "print(\"In Stochastic Gradient Descent, we use one randamly picked sample for a forward pass and then adjust weights\\n\");\n",
    "\n",
    "print(\"In mini batch gradient Descent, we use a batch of randomly picked samples for a forward pass and then adjust weights\\n\");\n",
    "\n",
    "df=pd.read_csv(r'C:\\Users\\TRISHANKU\\Downloads\\iris.csv');\n",
    "\n",
    "df.sample(5)"
   ]
  },
  {
   "cell_type": "code",
   "execution_count": 2,
   "metadata": {},
   "outputs": [
    {
     "name": "stdout",
     "output_type": "stream",
     "text": [
      "As we can see the data need to be scaled in preprocessing\n",
      "\n",
      "The scaled input values are :\n",
      " [[0.08827586 0.25      ]\n",
      " [0.62068966 0.75      ]\n",
      " [0.22068966 0.5       ]\n",
      " [0.24862069 0.5       ]\n",
      " [0.13793103 0.25      ]\n",
      " [0.12758621 0.25      ]\n",
      " [0.6662069  0.75      ]\n",
      " [0.86206897 0.75      ]\n",
      " [0.17586207 0.5       ]\n",
      " [1.         1.        ]\n",
      " [0.34482759 0.5       ]\n",
      " [0.68448276 0.75      ]\n",
      " [0.06896552 0.25      ]\n",
      " [0.10344828 0.25      ]\n",
      " [0.5        0.5       ]\n",
      " [0.12931034 0.25      ]\n",
      " [0.13103448 0.5       ]\n",
      " [0.25517241 0.5       ]\n",
      " [0.67931034 0.5       ]\n",
      " [0.         0.        ]]\n",
      "The labeled output values are :\n",
      " [[0.05237037]\n",
      " [0.65185185]\n",
      " [0.22222222]\n",
      " [0.31851852]\n",
      " [0.14074074]\n",
      " [0.04444444]\n",
      " [0.76296296]\n",
      " [0.91111111]\n",
      " [0.13333333]\n",
      " [1.        ]\n",
      " [0.37037037]\n",
      " [0.8       ]\n",
      " [0.04444444]\n",
      " [0.05925926]\n",
      " [0.51111111]\n",
      " [0.07407407]\n",
      " [0.11851852]\n",
      " [0.20740741]\n",
      " [0.51851852]\n",
      " [0.        ]]\n"
     ]
    }
   ],
   "source": [
    "print(\"As we can see the data need to be scaled in preprocessing\\n\");\n",
    "\n",
    "#We can make use of preprocessing imported from sklearn\n",
    "\n",
    "from sklearn import preprocessing;\n",
    "\n",
    "sx = preprocessing.MinMaxScaler();\n",
    "sy = preprocessing.MinMaxScaler();\n",
    "\n",
    "df_X = df.drop( df.columns[2] , axis='columns');\n",
    "\n",
    "scaler_X = sx.fit_transform(df_X);\n",
    "\n",
    "df_Y = df[df.columns[2]].values.reshape(scaler_X.shape[0],1);\n",
    "\n",
    "scaler_Y = sy.fit_transform(df_Y);\n",
    "\n",
    "#So as far as we can see our scaling is done\n",
    "print(\"The scaled input values are :\\n\",scaler_X);\n",
    "print(\"The labeled output values are :\\n\",scaler_Y);"
   ]
  },
  {
   "cell_type": "code",
   "execution_count": 3,
   "metadata": {},
   "outputs": [
    {
     "data": {
      "image/png": "[encoded data removed]",
      "text/plain": [
       "<Figure size 432x288 with 1 Axes>"
      ]
     },
     "metadata": {
      "needs_background": "light"
     },
     "output_type": "display_data"
    },
    {
     "data": {
      "text/plain": [
       "(array([0.66713443, 0.54278347]), -0.14675189534619587)"
      ]
     },
     "execution_count": 3,
     "metadata": {},
     "output_type": "execute_result"
    }
   ],
   "source": [
    "import math;\n",
    "\n",
    "def batch_gradient_descent( x , y , epochs , learning_rate = 0.001):\n",
    "    \n",
    "    number_of_features = x.shape[1];\n",
    "    w = np.ones(shape=(number_of_features));\n",
    "    bias = 0;\n",
    "    n = x.shape[0];\n",
    "    \n",
    "    cost_list = [];\n",
    "    epoch_list = [];\n",
    "    cost_prev = 0;\n",
    "    \n",
    "    for i in range(epochs):\n",
    "        \n",
    "        y_predicted = np.dot( w , x.T ) + bias;\n",
    "        \n",
    "        cost = np.mean(np.square(y - y_predicted));\n",
    "        \n",
    "        dn = (-2/n)*(x.T.dot(y - y_predicted));\n",
    "        \n",
    "        bn = (-2/n)*np.sum( y-y_predicted );\n",
    "        \n",
    "        w = w - learning_rate*dn;\n",
    "        \n",
    "        bias = bias - learning_rate*bn;\n",
    "        \n",
    "        if i%10 ==0:\n",
    "            cost_list.append(cost);\n",
    "            epoch_list.append(i);\n",
    "        \n",
    "        if math.isclose( cost , cost_prev , rel_tol = 0.00001):\n",
    "            break;\n",
    "        \n",
    "        cost_prev = cost;\n",
    "    \n",
    "    plt.plot( epoch_list , cost_list );\n",
    "    plt.xlabel('epochs');\n",
    "    plt.ylabel('cost');\n",
    "\n",
    "    plt.show()\n",
    "        \n",
    "    return w,bias;\n",
    "\n",
    "w , bias = batch_gradient_descent( scaler_X , scaler_Y.reshape(scaler_X.shape[0]) , 100000);\n",
    "w , bias"
   ]
  },
  {
   "cell_type": "code",
   "execution_count": 4,
   "metadata": {},
   "outputs": [
    {
     "data": {
      "text/plain": [
       "array([[36.71868784]])"
      ]
     },
     "execution_count": 4,
     "metadata": {},
     "output_type": "execute_result"
    }
   ],
   "source": [
    "def predict( area , bedrooms , w , bias):\n",
    "    \n",
    "    scaled_input = sx.transform([[ area , bedrooms ]])[0];\n",
    "    \n",
    "    scaled_price = scaled_input[0] * w[0] + scaled_input[1] * w[1] +bias ;\n",
    "    \n",
    "    return sy.inverse_transform([[scaled_price]]);\n",
    "    \n",
    "predict( 1000 , 2 , w , bias  )"
   ]
  },
  {
   "cell_type": "code",
   "execution_count": 5,
   "metadata": {},
   "outputs": [
    {
     "data": {
      "image/png": "[encoded data removed]",
      "text/plain": [
       "<Figure size 432x288 with 1 Axes>"
      ]
     },
     "metadata": {
      "needs_background": "light"
     },
     "output_type": "display_data"
    },
    {
     "data": {
      "text/plain": [
       "(array([0.67172991, 0.53405024]), -0.14397707934658668)"
      ]
     },
     "execution_count": 5,
     "metadata": {},
     "output_type": "execute_result"
    }
   ],
   "source": [
    "import math,random;\n",
    "\n",
    "def stocastic_gradient_descent( x , y , epochs , learning_rate = 0.004):\n",
    "    \n",
    "    number_of_features = x.shape[1];\n",
    "    w = np.ones(shape=(number_of_features));\n",
    "    bias = 0;\n",
    "    n = x.shape[0];\n",
    "    \n",
    "    cost_list = [];\n",
    "    epoch_list = [];\n",
    "    cost_prev = 0;\n",
    "    \n",
    "    for i in range(epochs):\n",
    "        \n",
    "        randIndex = random.randint(0 , n - 1);\n",
    "    \n",
    "        s_x = x[randIndex];\n",
    "        \n",
    "        s_y = y[randIndex];\n",
    "        \n",
    "        y_predicted = np.dot( w , s_x.T ) + bias;\n",
    "        \n",
    "        cost = np.mean(np.square(s_y - y_predicted));\n",
    "        \n",
    "        dn = (-2/n)*(s_x.T.dot(s_y - y_predicted));\n",
    "        \n",
    "        bn = (-2/n)*np.sum( s_y-y_predicted );\n",
    "        \n",
    "        w = w - learning_rate*dn;\n",
    "        \n",
    "        bias = bias - learning_rate*bn;\n",
    "        \n",
    "        if i%100 ==0:\n",
    "            cost_list.append(cost);\n",
    "            epoch_list.append(i);\n",
    "        \n",
    "        if math.isclose( cost , cost_prev , rel_tol = 0.00001):\n",
    "            break;\n",
    "        \n",
    "        cost_prev = cost;\n",
    "    \n",
    "    plt.plot( epoch_list , cost_list );\n",
    "    plt.xlabel('epochs');\n",
    "    plt.ylabel('cost');\n",
    "\n",
    "    plt.show()\n",
    "        \n",
    "    return w,bias;\n",
    "\n",
    "w_s , bias_s = stocastic_gradient_descent( scaler_X , scaler_Y.reshape(scaler_X.shape[0]) , 100000);\n",
    "w_s , bias_s"
   ]
  },
  {
   "cell_type": "code",
   "execution_count": 6,
   "metadata": {},
   "outputs": [
    {
     "data": {
      "text/plain": [
       "(array([0.66713443, 0.54278347]), -0.14675189534619587)"
      ]
     },
     "execution_count": 6,
     "metadata": {},
     "output_type": "execute_result"
    }
   ],
   "source": [
    "w, bias"
   ]
  },
  {
   "cell_type": "code",
   "execution_count": 7,
   "metadata": {},
   "outputs": [
    {
     "data": {
      "text/plain": [
       "(array([[71.7514228]]), array([[71.80800919]]))"
      ]
     },
     "execution_count": 7,
     "metadata": {},
     "output_type": "execute_result"
    }
   ],
   "source": [
    "predict(1540,3,w_s,bias_s),predict(1540,3,w,bias),"
   ]
  },
  {
   "cell_type": "code",
   "execution_count": 29,
   "metadata": {},
   "outputs": [
    {
     "data": {
      "image/png": "[encoded data removed]",
      "text/plain": [
       "<Figure size 432x288 with 1 Axes>"
      ]
     },
     "metadata": {
      "needs_background": "light"
     },
     "output_type": "display_data"
    },
    {
     "data": {
      "text/plain": [
       "(array([0.66484873, 0.54714871]), -0.14761826617809137)"
      ]
     },
     "execution_count": 29,
     "metadata": {},
     "output_type": "execute_result"
    }
   ],
   "source": [
    "import math,random;\n",
    "\n",
    "def mini_batch_gradient_descent( x , y , epochs , batch , learning_rate = 0.007):\n",
    "    \n",
    "    number_of_features = x.shape[1];\n",
    "    w = np.ones(shape=(number_of_features));\n",
    "    bias = 0;\n",
    "    n = x.shape[0];\n",
    "    \n",
    "    cost_list = [];\n",
    "    epoch_list = [];\n",
    "    cost_prev = 0;\n",
    "    \n",
    "    for i in range(epochs):\n",
    "        \n",
    "        randIndex = np.random.randint(n, size=batch);\n",
    "        \n",
    "        s_x=[];\n",
    "        s_y=[];\n",
    "        \n",
    "        for j in randIndex:\n",
    "            \n",
    "            s_x.append(x[j]);\n",
    "            \n",
    "            s_y.append(y[j]);\n",
    "            \n",
    "        s_x = np.array(s_x);\n",
    "        s_y = np.array(s_y);\n",
    "        \n",
    "        y_predicted = np.dot( w , s_x.T ) + bias;\n",
    "        \n",
    "        cost = np.mean(np.square(s_y - y_predicted));\n",
    "        \n",
    "        dn = (-2/n)*(s_x.T.dot(s_y - y_predicted));\n",
    "        \n",
    "        bn = (-2/n)*np.sum( s_y-y_predicted );\n",
    "        \n",
    "        w = w - learning_rate*dn;\n",
    "        \n",
    "        bias = bias - learning_rate*bn;\n",
    "        \n",
    "        if i%10 ==0:\n",
    "            cost_list.append(cost);\n",
    "            epoch_list.append(i);\n",
    "        \n",
    "        if math.isclose( cost , cost_prev , rel_tol = 0.00001):\n",
    "            break;\n",
    "        \n",
    "        cost_prev = cost;\n",
    "            \n",
    "    \n",
    "    plt.plot( epoch_list , cost_list );\n",
    "    plt.xlabel('epochs');\n",
    "    plt.ylabel('cost');\n",
    "\n",
    "    plt.show()\n",
    "        \n",
    "    return w,bias;\n",
    "\n",
    "w_m , bias_m = mini_batch_gradient_descent( scaler_X , scaler_Y.reshape(scaler_X.shape[0]) , 10000 , 5);\n",
    "w_m , bias_m"
   ]
  },
  {
   "cell_type": "code",
   "execution_count": 30,
   "metadata": {},
   "outputs": [
    {
     "data": {
      "text/plain": [
       "(array([[36.84132701]]), array([[36.71868784]]), array([[36.72777394]]))"
      ]
     },
     "execution_count": 30,
     "metadata": {},
     "output_type": "execute_result"
    }
   ],
   "source": [
    "  predict(1000,2,w_s,bias_s),predict(1000,2,w,bias),predict(1000,2,w_m,bias_m)"
   ]
  },
  {
   "cell_type": "code",
   "execution_count": null,
   "metadata": {},
   "outputs": [],
   "source": []
  }
 ],
 "metadata": {
  "kernelspec": {
   "display_name": "Python 3",
   "language": "python",
   "name": "python3"
  },
  "language_info": {
   "codemirror_mode": {
    "name": "ipython",
    "version": 3
   },
   "file_extension": ".py",
   "mimetype": "text/x-python",
   "name": "python",
   "nbconvert_exporter": "python",
   "pygments_lexer": "ipython3",
   "version": "3.8.5"
  }
 },
 "nbformat": 4,
 "nbformat_minor": 4
}
